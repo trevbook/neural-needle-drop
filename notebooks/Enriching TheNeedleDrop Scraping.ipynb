{
 "cells": [
  {
   "cell_type": "markdown",
   "id": "8e820dad-dea5-4dd0-a30e-04513457d15e",
   "metadata": {},
   "source": [
    "# Motivation\n",
    "In another notebook (**TheNeedleDrop Scraping**), I defined a process to download data about each TheNeedleDrop review. Now, I want to create a couple of additional methods that create \"enriched\" versions of the files I've downloaded. \n",
    "\n",
    "Mostly, these \"enriched\" stats files will contain some important information about the video - description, publication date, album / artist information, etc. I'll try and parse the scores from the descriptions, and determine if videos are reviews or not. "
   ]
  },
  {
   "cell_type": "markdown",
   "id": "d88cde5f-da0e-4863-97b8-43e0056500d2",
   "metadata": {},
   "source": [
    "# Setup\n",
    "The cells below will help to set up the rest of the notebook.\n",
    "\n",
    "First, I'll change my working directory to the repo's root. "
   ]
  },
  {
   "cell_type": "code",
   "execution_count": 1,
   "id": "83a4f0d5-bf3b-4b5c-9e3a-e3ed9c503b20",
   "metadata": {},
   "outputs": [
    {
     "name": "stdout",
     "output_type": "stream",
     "text": [
      "C:\\Data\\Personal Study\\Programming\\neural-needle-drop\n"
     ]
    }
   ],
   "source": [
    "# Changing the cwd to the repo root\n",
    "%cd .."
   ]
  },
  {
   "cell_type": "markdown",
   "id": "2d06720f-11e2-4460-9566-d1421d2b2206",
   "metadata": {},
   "source": [
    "Next, I'll import some important modules."
   ]
  },
  {
   "cell_type": "code",
   "execution_count": 2,
   "id": "1187cfea-66c6-442e-ad47-0b486761cb53",
   "metadata": {},
   "outputs": [],
   "source": [
    "# Import statements\n",
    "import pandas as pd\n",
    "import json"
   ]
  },
  {
   "cell_type": "markdown",
   "id": "0deb8fb9-ada1-4801-8342-c30ca5f0e254",
   "metadata": {},
   "source": [
    "# Method Development\n",
    "I'm going to try and develop a number of \"helper methods\" that help to enrich the different files. "
   ]
  },
  {
   "cell_type": "markdown",
   "id": "e1bede49-bd95-4553-9c2d-ca19b0706066",
   "metadata": {},
   "source": [
    "### Detecting Reviews\n",
    "One method that I want to try and write: a \"review\" detector. Fantano releases a ton of different videos that aren't reviews - things like \"top ____ of the year\" sorta stuff.\n",
    "\n",
    "The method below will try to use a video's title / description to determine if a video is a review or not."
   ]
  },
  {
   "cell_type": "code",
   "execution_count": 29,
   "id": "3b08cd95-4945-4804-9787-12c62fee88b4",
   "metadata": {},
   "outputs": [],
   "source": [
    "# This method will attempt to determine whether a video is a review or not \n",
    "def detect_review(video_details_dict):\n",
    "    \n",
    "    # Determine if \"album review\" is a substring of the video title, and return a bool indicating that\n",
    "    if video_details_dict[\"title\"].lower().find(\"album review\") == -1:\n",
    "        return False\n",
    "    else:\n",
    "        return True"
   ]
  },
  {
   "cell_type": "markdown",
   "id": "a0b3179c-a129-4565-be27-211fd5e3d68e",
   "metadata": {},
   "source": [
    "The next method will attempt to use a regular expression to extract the review score from a video's description."
   ]
  },
  {
   "cell_type": "code",
   "execution_count": 21,
   "id": "84684ec1-fc29-42a8-b4e4-76fd7ab58ebe",
   "metadata": {},
   "outputs": [],
   "source": [
    "# This method will try to extract the review score from a video's description using a regex. \n",
    "# If successful, it'll return an int. If unsuccessful, it'll return None.\n",
    "def extract_review_score(video_details_dict):\n",
    "    \n",
    "    # Try to parse the review score from the video's description\n",
    "    try:\n",
    "        video_description = video_details_dict[\"shortDescription\"]\n",
    "        search = re.search(r'[0-9]+/10', video_description, re.IGNORECASE)\n",
    "        score_str = search.group(0)\n",
    "        score_int = int(score_str.split(\"/\")[0])\n",
    "        return score_int\n",
    "    \n",
    "    # Return None if we ran into an error\n",
    "    except:\n",
    "        return None"
   ]
  },
  {
   "cell_type": "markdown",
   "id": "d791d374-7ea5-4b9a-809e-9badad1ab30a",
   "metadata": {},
   "source": [
    "# Playground"
   ]
  },
  {
   "cell_type": "code",
   "execution_count": null,
   "id": "a4fadcd6-50aa-45be-8ccb-831e974a080a",
   "metadata": {},
   "outputs": [],
   "source": []
  },
  {
   "cell_type": "code",
   "execution_count": 39,
   "id": "44c1ca8b-4aeb-48af-a46a-7ee0f8c2ec02",
   "metadata": {},
   "outputs": [],
   "source": [
    "test_json_path = \"data/theneedledrop_scraping/__MzJoGgYLk/details.json\"\n",
    "with open(test_json_path, \"r\") as json_file:\n",
    "    test_json_dict = json.load(json_file)\n",
    "    \n",
    "# \"iHrJDmN2oxk\""
   ]
  },
  {
   "cell_type": "code",
   "execution_count": 40,
   "id": "4864dea7-a17d-4b4a-b325-1aa32aa4f17f",
   "metadata": {},
   "outputs": [],
   "source": [
    "video_details_dict = test_json_dict"
   ]
  },
  {
   "cell_type": "code",
   "execution_count": 41,
   "id": "4197f47a-4c5f-4902-9a45-d5f823aae244",
   "metadata": {},
   "outputs": [
    {
     "data": {
      "text/plain": [
       "'Jack White - Lazaretto ALBUM REVIEW'"
      ]
     },
     "execution_count": 41,
     "metadata": {},
     "output_type": "execute_result"
    }
   ],
   "source": [
    "video_details_dict['title']"
   ]
  },
  {
   "cell_type": "code",
   "execution_count": 31,
   "id": "443c0b69-d7ed-4ee3-a729-c664bcb0a573",
   "metadata": {},
   "outputs": [],
   "source": [
    "extract_review_score(test_json_dict)"
   ]
  },
  {
   "cell_type": "code",
   "execution_count": null,
   "id": "4f015bc0-8a97-4c25-9d2b-43292800087f",
   "metadata": {},
   "outputs": [],
   "source": []
  }
 ],
 "metadata": {
  "kernelspec": {
   "display_name": "Python 3 (ipykernel)",
   "language": "python",
   "name": "python3"
  },
  "language_info": {
   "codemirror_mode": {
    "name": "ipython",
    "version": 3
   },
   "file_extension": ".py",
   "mimetype": "text/x-python",
   "name": "python",
   "nbconvert_exporter": "python",
   "pygments_lexer": "ipython3",
   "version": "3.10.6"
  }
 },
 "nbformat": 4,
 "nbformat_minor": 5
}
