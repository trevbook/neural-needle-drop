{
 "cells": [
  {
   "cell_type": "markdown",
   "id": "8dce9ed2-66e8-46c4-9856-90cf2e4fa11c",
   "metadata": {},
   "source": [
    "# Motivation\n",
    "In this notebook, I'm going to experiment with creating text embeddings using OpenAI's text embedding model. They recently released [an updated version of the embedding model](https://openai.com/blog/new-and-improved-embedding-model/) (called `text-embedding-ada-002`) is apparently quite good, and I wanted to experiment with it. "
   ]
  },
  {
   "cell_type": "markdown",
   "id": "4e59345a-7a11-496b-a204-974104b63f65",
   "metadata": {},
   "source": [
    "# Setup\n",
    "The cells below will help to set up the rest of the notebook. \n",
    "\n",
    "I'll start by changing my working directory. "
   ]
  },
  {
   "cell_type": "code",
   "execution_count": 1,
   "id": "b73e4cdf-b169-4c35-b1c6-d2ddbf300db9",
   "metadata": {},
   "outputs": [
    {
     "name": "stdout",
     "output_type": "stream",
     "text": [
      "C:\\Data\\Personal Study\\Programming\\neural-needle-drop\n"
     ]
    }
   ],
   "source": [
    "%cd .."
   ]
  },
  {
   "cell_type": "markdown",
   "id": "243d69b3-6c33-49d5-b0e0-d81ade9a1b67",
   "metadata": {},
   "source": [
    "Now, I'll import some libraries."
   ]
  },
  {
   "cell_type": "code",
   "execution_count": 59,
   "id": "a87ed54f-4730-483b-b4ee-85b77c4ba4ba",
   "metadata": {},
   "outputs": [],
   "source": [
    "# Import statements\n",
    "import requests\n",
    "import os\n",
    "from requests.structures import CaseInsensitiveDict\n",
    "import numpy as np\n",
    "import json\n",
    "from numpy import dot\n",
    "from numpy.linalg import norm"
   ]
  },
  {
   "cell_type": "markdown",
   "id": "5a083dab-60c2-4b72-a3ae-f491769693b4",
   "metadata": {},
   "source": [
    "# Text Embedding API \n",
    "I'm reading through [the documentation for OpenAI's text embedding model](https://beta.openai.com/docs/api-reference/embeddings/create), and I wanted to play around with it. I'm going to create a couple of methods for accessing this endpoint. Technically, OpenAI *does* have a Python API, but I want to try and poke around things myself in order to ensure I know what I'm working with.\n",
    "\n",
    "I'll start by writing a method that generates embeddings for the strings in an `input_text_list`. "
   ]
  },
  {
   "cell_type": "code",
   "execution_count": 45,
   "id": "e277400f-1908-4cd3-8fe0-d02eabdc1d92",
   "metadata": {},
   "outputs": [],
   "source": [
    "# This method will return a list of ndarrays, each representing text embeddings of \n",
    "# the text in each index of the input_text_list list\n",
    "def generate_embeddings(input_text_list):\n",
    "    \n",
    "    # Get the OpenAI API key from the environment variables \n",
    "    api_key = os.getenv(\"OPENAI_API_KEY\", \"\")\n",
    "    \n",
    "    # Build the API request\n",
    "    url = \"https://api.openai.com/v1/embeddings\"\n",
    "    headers = CaseInsensitiveDict()\n",
    "    headers[\"Content-Type\"] = \"application/json\"\n",
    "    headers[\"Authorization\"] = \"Bearer \" + api_key\n",
    "    data = \"\"\"{\"input\": \"\"\" + json.dumps(input_text_list) + \"\"\",\"model\":\"text-embedding-ada-002\"}\"\"\"\n",
    "    \n",
    "    # Send the API request\n",
    "    resp = requests.post(url, headers=headers, data=data)\n",
    "    \n",
    "    # If the request was successful, return ndarrays of the embeddings. Otherwise, return None objects \n",
    "    if resp.status_code == 200:\n",
    "        return [np.asarray(data_object['embedding']) for data_object in resp.json()['data']]\n",
    "    else:\n",
    "        return [None for txt in input_text_list]   "
   ]
  },
  {
   "cell_type": "markdown",
   "id": "7d116d29-e8e5-4b3a-a4d7-91845403b33d",
   "metadata": {},
   "source": [
    "I'm also going to make a method that calculates the cosine similarity between two ndarrays."
   ]
  },
  {
   "cell_type": "code",
   "execution_count": 60,
   "id": "971bd581-a698-46f0-9697-972e833ca9a5",
   "metadata": {},
   "outputs": [],
   "source": [
    "# This method will return the cosine similarity of two ndarrays\n",
    "def cosine_sim(a, b):\n",
    "    return dot(a, b)/(norm(a)*norm(b))"
   ]
  },
  {
   "cell_type": "markdown",
   "id": "9fa92ad2-69e3-47c2-8fbf-7e1a56bf4fc2",
   "metadata": {},
   "source": [
    "Next, I'm going to test this method. I've got a list of strings - I'm going to generate embeddings for them, and then calculate some cosine similarities. "
   ]
  },
  {
   "cell_type": "code",
   "execution_count": 62,
   "id": "60e8134c-e2a9-4d69-ac87-b84046a48169",
   "metadata": {},
   "outputs": [
    {
     "name": "stdout",
     "output_type": "stream",
     "text": [
      "Comparing \"Hey, my name is Trevor.\" to \"Hey, my name is Trevor.\"\n",
      "Cosine Similarity: 1.0\n",
      "\n",
      "Comparing \"Hey, my name is Trevor.\" to \"Hello, my name is Trevor.\"\n",
      "Cosine Similarity: 0.9891420343232956\n",
      "\n",
      "Comparing \"Hey, my name is Trevor.\" to \"Hello, my name is Casey\"\n",
      "Cosine Similarity: 0.8596241625291113\n",
      "\n",
      "Comparing \"Hey, my name is Trevor.\" to \"Sup bitch I'm T-dawg\"\n",
      "Cosine Similarity: 0.8227929935393037\n",
      "\n"
     ]
    }
   ],
   "source": [
    "# Generate embeddings for each of the strings in the txt_list\n",
    "txt_list = [\"Hey, my name is Trevor.\", \"Hello, my name is Trevor.\", \"Hello, my name is Casey\", \"Sup bitch I'm T-dawg\"]\n",
    "emb_list = generate_embeddings(txt_list)\n",
    "\n",
    "# Print the cosine similarity between the first string and the other ones \n",
    "for idx, txt in enumerate(txt_list):\n",
    "    print(f\"\"\"Comparing \"{txt_list[0]}\" to \"{txt}\"\\nCosine Similarity: {cosine_sim(emb_list[0], emb_list[idx])}\\n\"\"\")"
   ]
  },
  {
   "cell_type": "markdown",
   "id": "7227376d-491f-4110-84ab-01f789658940",
   "metadata": {},
   "source": [
    "Nice: seems like everything is working pretty well. "
   ]
  }
 ],
 "metadata": {
  "kernelspec": {
   "display_name": "Python 3 (ipykernel)",
   "language": "python",
   "name": "python3"
  },
  "language_info": {
   "codemirror_mode": {
    "name": "ipython",
    "version": 3
   },
   "file_extension": ".py",
   "mimetype": "text/x-python",
   "name": "python",
   "nbconvert_exporter": "python",
   "pygments_lexer": "ipython3",
   "version": "3.10.6"
  }
 },
 "nbformat": 4,
 "nbformat_minor": 5
}
