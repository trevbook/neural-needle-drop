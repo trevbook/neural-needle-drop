{
 "cells": [
  {
   "cell_type": "markdown",
   "id": "6aa20003-e94c-4470-8086-75eaf0bafcd0",
   "metadata": {},
   "source": [
    "# Motivation\n",
    "I want to try downloading some YouTube videos using [pytube](https://github.com/pytube/pytube), a Python library meant for working with YouTube content. "
   ]
  },
  {
   "cell_type": "markdown",
   "id": "ec657698-d202-4644-bb76-707bbc745ecb",
   "metadata": {},
   "source": [
    "# Setup\n",
    "The cells below will set up the rest of the notebook.\n",
    "\n",
    "I'll start by changing my working directory to the root of the repo. "
   ]
  },
  {
   "cell_type": "code",
   "execution_count": 1,
   "id": "4ee8a1f1-4811-4cca-8aa0-72079ca7f0e9",
   "metadata": {},
   "outputs": [
    {
     "name": "stdout",
     "output_type": "stream",
     "text": [
      "C:\\Data\\Personal Study\\Programming\\neural-needle-drop\n"
     ]
    }
   ],
   "source": [
    "# Change to the root of the repo\n",
    "%cd .."
   ]
  },
  {
   "cell_type": "markdown",
   "id": "cfcaf9b8-7cad-487f-8cef-91397b589c17",
   "metadata": {
    "tags": []
   },
   "source": [
    "Next, I'll import some libraries. "
   ]
  },
  {
   "cell_type": "code",
   "execution_count": 2,
   "id": "2af2ad49-4cc8-4819-bb98-1cd9d4ac2c6b",
   "metadata": {},
   "outputs": [],
   "source": [
    "# Import statements\n",
    "from pytube import YouTube\n",
    "from pytube import Channel\n",
    "import pandas as pd\n",
    "from pathlib import Path\n",
    "from time import time"
   ]
  },
  {
   "cell_type": "markdown",
   "id": "cd1f62ff-47ce-4b6f-9ccc-7f5e2b319389",
   "metadata": {},
   "source": [
    "# Experimentation\n"
   ]
  },
  {
   "cell_type": "markdown",
   "id": "a2cbe81d-4907-486a-9368-d380d717acce",
   "metadata": {},
   "source": [
    "### Downloading Audio\n",
    "I'm going to follow [pytube's quickstart guide](https://pytube.io/en/latest/user/quickstart.html) and try to download the audio for [this TheNeedleDrop review](https://www.youtube.com/watch?v=ue2o_EokaIw)."
   ]
  },
  {
   "cell_type": "code",
   "execution_count": 3,
   "id": "9c52a4e0-e740-43b1-981a-ba80d3cb0c67",
   "metadata": {},
   "outputs": [
    {
     "name": "stdout",
     "output_type": "stream",
     "text": [
      "The title of the video in question is:\n",
      "Oneohtrix Point Never - Magic Oneohtrix Point Never ALBUM REVIEW\n"
     ]
    }
   ],
   "source": [
    "# Declare the YouTube object, which we'll call video\n",
    "video = YouTube(\"https://www.youtube.com/watch?v=ue2o_EokaIw\")\n",
    "\n",
    "# Print the title of the video\n",
    "print(f\"The title of the video in question is:\\n{video.title}\")"
   ]
  },
  {
   "cell_type": "code",
   "execution_count": 4,
   "id": "8c364151-5937-40fa-94d5-90772616bab5",
   "metadata": {},
   "outputs": [
    {
     "name": "stdout",
     "output_type": "stream",
     "text": [
      "The description of this video is as follows:\n",
      "Listen: https://www.youtube.com/watch?v=w5azY0dH67U\n",
      "\n",
      "As an overview of Daniel Lopatin's musical exploits, Magic OPN isn't quite as spectacular as it could have been.\n",
      "\n",
      "More electronic reviews: https://www.youtube.com/playlist?list=PLP4CSgl7K7ormX2pL9h0inES2Ub630NoL\n",
      "\n",
      "===================================\n",
      "Subscribe: http://bit.ly/1pBqGCN\n",
      "\n",
      "Patreon: https://www.patreon.com/theneedledrop\n",
      "\n",
      "Official site: http://theneedledrop.com\n",
      "\n",
      "Twitter: http://twitter.com/theneedledrop\n",
      "\n",
      "Instagram: https://www.instagram.com/afantano\n",
      "\n",
      "TND Twitch: https://www.twitch.tv/theneedledrop\n",
      "===================================\n",
      "\n",
      "FAV TRACKS: THE WHETHER CHANNEL, NO NIGHTMARES, TALES FROM THE TRASH STRATUM, IMAGO, NOTHING'S SPECIAL\n",
      "\n",
      "LEAST FAV TRACK: I DON'T LOVE ME ANYMORE\n",
      "\n",
      "ONEOHTRIX POINT NEVER - MAGIC ONEOHTRIX POINT NEVER / 2020 / WARP / NEO-PSYCH, AMBIENT, HYPNAGOGIC POP, ODE TO RADIO\n",
      "\n",
      "6/10\n",
      "\n",
      "Y'all know this is just my opinion, right?\n"
     ]
    }
   ],
   "source": [
    "# Print the description of the video\n",
    "print(f\"The description of this video is as follows:\\n{video.description}\")"
   ]
  },
  {
   "cell_type": "markdown",
   "id": "9ad9c48a-7dda-422b-9849-d1add1d7c75d",
   "metadata": {},
   "source": [
    "Seems *really* easy. Let's see if we can download things. Apparently, YouTube is using this thing called \"DASH\" - [Dynamic Adaptive Streaming over HTTP](https://en.wikipedia.org/wiki/Dynamic_Adaptive_Streaming_over_HTTP). With pytube, you can look at all of the different streams, and then download them as you see fit. \n",
    "\n",
    "Below, I've got a loop to determine the highest-bandwidth mp4 audio stream."
   ]
  },
  {
   "cell_type": "code",
   "execution_count": 5,
   "id": "641aac67-4820-42dc-ba1b-8c1923541f67",
   "metadata": {},
   "outputs": [],
   "source": [
    "# Find the highest-bitrate mp4 audio stream\n",
    "highest_bitrate_mp4_audio_stream = None\n",
    "highest_bitrate_found = 0\n",
    "for stream in video.streams.filter(only_audio=True):\n",
    "    if (stream.mime_type == \"audio/mp4\"):\n",
    "        stream_bitrate = int(stream.abr.split(\"kbps\")[0])\n",
    "        if (stream_bitrate > highest_bitrate_found):\n",
    "            highest_bitrate_mp4_audio_stream = stream\n",
    "            highest_bitrate_found = stream_bitrate"
   ]
  },
  {
   "cell_type": "markdown",
   "id": "56317027-983d-4662-a31b-bc50de40e1c3",
   "metadata": {},
   "source": [
    "Now that I've got this stream, I should be able to download it."
   ]
  },
  {
   "cell_type": "code",
   "execution_count": 6,
   "id": "b25ff639-7058-482f-ae19-4d111fc25323",
   "metadata": {},
   "outputs": [
    {
     "name": "stdout",
     "output_type": "stream",
     "text": [
      "audio downloaded to data/test_audio_download.m4a in 4.57sec\n"
     ]
    }
   ],
   "source": [
    "# Create a data/ folder if it doesn't exist\n",
    "data_folder_path = Path(\"data/\")\n",
    "data_folder_path.mkdir(exist_ok=True, parents=True)\n",
    "\n",
    "# Time how long it takes to download the .m4a audio for this video\n",
    "start_time = time()\n",
    "highest_bitrate_mp4_audio_stream.download(output_path=data_folder_path, \n",
    "                                          filename=\"test_audio_download.m4a\",\n",
    "                                          skip_existing=False)\n",
    "print(f\"audio downloaded to {data_folder_path}/test_audio_download.m4a in {time()-start_time:.2f}sec\")"
   ]
  },
  {
   "cell_type": "markdown",
   "id": "e6605804-8280-42a7-aeff-8888dad8574c",
   "metadata": {},
   "source": [
    "Really quickly: I actually want this to be an MP3 file instead. The cell below will convert the file. "
   ]
  },
  {
   "cell_type": "code",
   "execution_count": 7,
   "id": "17a2893f-5d20-44bc-889b-bced3480c75b",
   "metadata": {},
   "outputs": [],
   "source": [
    "# This method will convert an m4a file to mp3\n",
    "def convert_m4a_to_mp3(input_file_path, output_file_path):\n",
    "    \n",
    "    # Import the necessary library\n",
    "    import subprocess\n",
    "    \n",
    "    # Generate the ffmpeg command we'll use\n",
    "    command = f\"\"\"ffmpeg -i {input_file_path} {output_file_path}\"\"\"\n",
    "\n",
    "    # Run the command\n",
    "    rsp = subprocess.run(command)\n",
    "    \n",
    "# Run the aforementioned method\n",
    "convert_m4a_to_mp3(f\"{data_folder_path}/test_audio_download.m4a\", \n",
    "                   f\"{data_folder_path}/test_audio_download.mp3\")"
   ]
  },
  {
   "cell_type": "markdown",
   "id": "16d48695-a51c-45ca-af53-c6f435fa0656",
   "metadata": {},
   "source": [
    "### Downloading Channel Information\n",
    "Now: another question. Can I use `pytube` to get all of the videos from TheNeedleDrop's channel? According to [their \"Using Channels\" tutorial](https://pytube.io/en/latest/user/channel.html#using-channels): probably, yeah. "
   ]
  },
  {
   "cell_type": "code",
   "execution_count": 16,
   "id": "fff194b1-f7bd-4f91-bb9e-4ae5a09cee82",
   "metadata": {},
   "outputs": [
    {
     "name": "stdout",
     "output_type": "stream",
     "text": [
      "theneedledrop has 3,971 videos.\n"
     ]
    }
   ],
   "source": [
    "# Creating a Channel object for theneedledrop\n",
    "theneedledrop_channel = Channel('https://www.youtube.com/c/theneedledrop')\n",
    "\n",
    "# Determining all of his videos\n",
    "all_video_urls = theneedledrop_channel.video_urls\n",
    "print(f\"theneedledrop has {len(all_video_urls):,} videos.\")"
   ]
  },
  {
   "cell_type": "markdown",
   "id": "6626f6f4-293c-4b9f-a4a0-cdf5d01668de",
   "metadata": {},
   "source": [
    "Nice - I've got the URLs for **ALL** of Anthony Fantano's reviews. Let's see if I can guess some sort of pattern to identify the reviews themselves (versus additional content). \n",
    "\n",
    "**Actually...** I don't really *care* about differentiating the reviews right now. In theory, I want to download *all* of his videos, and then classify whether they're reviews or not later. "
   ]
  }
 ],
 "metadata": {
  "kernelspec": {
   "display_name": "Python 3 (ipykernel)",
   "language": "python",
   "name": "python3"
  },
  "language_info": {
   "codemirror_mode": {
    "name": "ipython",
    "version": 3
   },
   "file_extension": ".py",
   "mimetype": "text/x-python",
   "name": "python",
   "nbconvert_exporter": "python",
   "pygments_lexer": "ipython3",
   "version": "3.10.6"
  }
 },
 "nbformat": 4,
 "nbformat_minor": 5
}
