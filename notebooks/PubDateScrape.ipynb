{
 "cells": [
  {
   "cell_type": "code",
   "execution_count": 2,
   "id": "5f6febd8-c13c-45ca-ad17-c2dcacc7138b",
   "metadata": {},
   "outputs": [],
   "source": [
    "# Import statements\n",
    "import pandas as pd\n",
    "import json\n",
    "from pathlib import Path\n",
    "from tqdm import tqdm\n",
    "import re\n",
    "import plotly.express as px\n",
    "from time import sleep\n",
    "\n",
    "# pytube-specific import statements\n",
    "from pytube import YouTube\n",
    "from pytube import Channel\n",
    "\n",
    "# This method will retrieve all of the video URLs for a particular channel\n",
    "def get_channel_video_urls(channel):\n",
    "    \n",
    "    # Creating a Channel object\n",
    "    channel_object = Channel(f'https://www.youtube.com/c/{channel}')\n",
    "\n",
    "    # Determining all of his videos\n",
    "    all_video_urls = channel_object.video_urls\n",
    "    return all_video_urls\n",
    "\n",
    "# Grabbing all of the video URLs for theneedledrop\n",
    "needledrop_video_urls = get_channel_video_urls(\"theneedledrop\")\n",
    "\n",
    "# Create an empty dictionary to hold the publication dates for each video \n",
    "video_publish_date_dict = {}"
   ]
  },
  {
   "cell_type": "code",
   "execution_count": null,
   "id": "16ee9044-a14d-4088-96ac-f232d3f7e372",
   "metadata": {},
   "outputs": [
    {
     "name": "stderr",
     "output_type": "stream",
     "text": [
      " 96%|███████████████████████████████████████████████████████████████████████████████████████████████████████████▏    | 3805/3974 [1:53:38<05:14,  1.86s/it]"
     ]
    }
   ],
   "source": [
    "# Get the publication dates for this video \n",
    "for video_url in tqdm(needledrop_video_urls):\n",
    "    if (video_url in video_publish_date_dict):\n",
    "        continue\n",
    "    video_object = YouTube(video_url)\n",
    "    sleep(0.5)\n",
    "    video_publish_date_dict[video_url] = video_object.publish_date\n",
    "    sleep(0.5)"
   ]
  }
 ],
 "metadata": {
  "kernelspec": {
   "display_name": "Python 3 (ipykernel)",
   "language": "python",
   "name": "python3"
  },
  "language_info": {
   "codemirror_mode": {
    "name": "ipython",
    "version": 3
   },
   "file_extension": ".py",
   "mimetype": "text/x-python",
   "name": "python",
   "nbconvert_exporter": "python",
   "pygments_lexer": "ipython3",
   "version": "3.10.6"
  }
 },
 "nbformat": 4,
 "nbformat_minor": 5
}
