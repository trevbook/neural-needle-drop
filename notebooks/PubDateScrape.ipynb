{
 "cells": [
  {
   "cell_type": "code",
   "execution_count": 1,
   "id": "601a09a3-0c5c-4fd9-a3a5-1f57efeee783",
   "metadata": {},
   "outputs": [
    {
     "name": "stdout",
     "output_type": "stream",
     "text": [
      "C:\\Data\\Personal Study\\Programming\\neural-needle-drop\n"
     ]
    }
   ],
   "source": [
    "%cd .."
   ]
  },
  {
   "cell_type": "code",
   "execution_count": 3,
   "id": "0c83cb9c-e5e7-4ad4-855a-f850af66fa30",
   "metadata": {},
   "outputs": [],
   "source": [
    "# Import statements\n",
    "import pandas as pd\n",
    "import json\n",
    "from pathlib import Path\n",
    "from tqdm import tqdm\n",
    "import re\n",
    "import plotly.express as px\n",
    "from time import sleep"
   ]
  },
  {
   "cell_type": "code",
   "execution_count": 2,
   "id": "5f6febd8-c13c-45ca-ad17-c2dcacc7138b",
   "metadata": {},
   "outputs": [],
   "source": [
    "\n",
    "\n",
    "# pytube-specific import statements\n",
    "from pytube import YouTube\n",
    "from pytube import Channel\n",
    "\n",
    "# This method will retrieve all of the video URLs for a particular channel\n",
    "def get_channel_video_urls(channel):\n",
    "    \n",
    "    # Creating a Channel object\n",
    "    channel_object = Channel(f'https://www.youtube.com/c/{channel}')\n",
    "\n",
    "    # Determining all of his videos\n",
    "    all_video_urls = channel_object.video_urls\n",
    "    return all_video_urls\n",
    "\n",
    "# Grabbing all of the video URLs for theneedledrop\n",
    "needledrop_video_urls = get_channel_video_urls(\"theneedledrop\")\n",
    "\n",
    "# Create an empty dictionary to hold the publication dates for each video \n",
    "video_publish_date_dict = {}"
   ]
  },
  {
   "cell_type": "code",
   "execution_count": 12,
   "id": "16ee9044-a14d-4088-96ac-f232d3f7e372",
   "metadata": {},
   "outputs": [
    {
     "name": "stderr",
     "output_type": "stream",
     "text": [
      "100%|████████████████████████████████████████████████████████████████████████████████████████████████████████████████| 3974/3974 [1:59:00<00:00,  1.80s/it]\n"
     ]
    }
   ],
   "source": [
    "# Get the publication dates for this video \n",
    "for video_url in tqdm(needledrop_video_urls):\n",
    "    if (video_url in video_publish_date_dict):\n",
    "        continue\n",
    "    video_object = YouTube(video_url)\n",
    "    sleep(0.5)\n",
    "    video_publish_date_dict[video_url] = video_object.publish_date\n",
    "    sleep(0.5)"
   ]
  },
  {
   "cell_type": "code",
   "execution_count": 17,
   "id": "4b7d6c2c-423b-477b-85a5-56709ece35a3",
   "metadata": {},
   "outputs": [],
   "source": [
    "pd.DataFrame.from_records([{\"url\": key, \"date\": val} for key, val in video_publish_date_dict.items()]).to_json(\n",
    "    \"data/video_published_dates.json\", indent=2, orient=\"records\")"
   ]
  },
  {
   "cell_type": "code",
   "execution_count": 6,
   "id": "38bb0c2b-208b-4050-8fc4-1bb3d714c591",
   "metadata": {},
   "outputs": [],
   "source": [
    "video_publish_date_df = pd.read_json(\"data/video_published_dates.json\")\n",
    "video_publish_date_df[\"video_id\"] = video_publish_date_df[\"url\"].apply(\n",
    "    lambda x: x.split(\"https://www.youtube.com/watch?v=\")[1])"
   ]
  },
  {
   "cell_type": "code",
   "execution_count": 25,
   "id": "88a45fe4-8dbf-4a35-8785-2169d096f3aa",
   "metadata": {},
   "outputs": [
    {
     "name": "stderr",
     "output_type": "stream",
     "text": [
      "3974it [00:15, 257.91it/s]\n"
     ]
    }
   ],
   "source": [
    "for row in tqdm(video_publish_date_df.itertuples()):\n",
    "    cur_video_path = Path(f\"data/theneedledrop_scraping/{row.video_id}\")\n",
    "    \n",
    "    # Load in the current details dict\n",
    "    with open(f\"{cur_video_path}/details.json\", \"r\") as json_file:\n",
    "        cur_details_dict = json.load(json_file)\n",
    "        \n",
    "    # Add the publication date to this details dict\n",
    "    cur_details_dict[\"publish_date\"] = row.date\n",
    "    \n",
    "    # Re-save the details dictionary\n",
    "    with open(f\"{cur_video_path}/details.json\", \"w\") as json_file:\n",
    "        json.dump(cur_details_dict, json_file, indent=2, default=str)"
   ]
  },
  {
   "cell_type": "code",
   "execution_count": 20,
   "id": "a6e2461c-1a95-4d5f-b2fa-aeaa865d3439",
   "metadata": {},
   "outputs": [
    {
     "data": {
      "text/plain": [
       "{'videoId': '1duvy3ewoks',\n",
       " 'title': 'I saw Sunn O)))',\n",
       " 'lengthSeconds': '620',\n",
       " 'keywords': ['sunn',\n",
       "  'earth',\n",
       "  'drone',\n",
       "  'experimental',\n",
       "  'music',\n",
       "  'brooklyn',\n",
       "  'new york',\n",
       "  'masonic temple',\n",
       "  'the needle drop',\n",
       "  'live review',\n",
       "  'atilla',\n",
       "  'experience',\n",
       "  'mayhem',\n",
       "  'black metal',\n",
       "  'doom',\n",
       "  'ambient',\n",
       "  'loud',\n",
       "  'volume',\n",
       "  'deadly',\n",
       "  'ouch',\n",
       "  'ears',\n",
       "  'shaking',\n",
       "  'afraid',\n",
       "  'scared',\n",
       "  'scary',\n",
       "  'anthony fantano',\n",
       "  'theneedledop'],\n",
       " 'channelId': 'UCt7fwAhXDy3oNFTAzF2o8Pw',\n",
       " 'isOwnerViewing': False,\n",
       " 'shortDescription': \"...and it ruled.\\r\\n\\r\\nHere's an article about the show I saw:\\r\\nhttp://www3.timeoutny.com/newyork/thevolume/2009/09/sunn-o-and-friends-strip-metal-to-the-bone-at-brooklyn-masonic-temple/\",\n",
       " 'isCrawlable': True,\n",
       " 'thumbnail': {'thumbnails': [{'url': 'https://i.ytimg.com/vi/1duvy3ewoks/default.jpg',\n",
       "    'width': 120,\n",
       "    'height': 90},\n",
       "   {'url': 'https://i.ytimg.com/vi/1duvy3ewoks/mqdefault.jpg',\n",
       "    'width': 320,\n",
       "    'height': 180},\n",
       "   {'url': 'https://i.ytimg.com/vi/1duvy3ewoks/hqdefault.jpg',\n",
       "    'width': 480,\n",
       "    'height': 360}]},\n",
       " 'allowRatings': True,\n",
       " 'viewCount': '445621',\n",
       " 'author': 'theneedledrop',\n",
       " 'isPrivate': False,\n",
       " 'isUnpluggedCorpus': False,\n",
       " 'isLiveContent': False,\n",
       " 'publish_date': Timestamp('2009-09-24 00:00:00')}"
      ]
     },
     "execution_count": 20,
     "metadata": {},
     "output_type": "execute_result"
    }
   ],
   "source": [
    "cur_details_dict"
   ]
  },
  {
   "cell_type": "code",
   "execution_count": 24,
   "id": "f9dd3c99-463d-46e0-84fb-dc957044d97b",
   "metadata": {},
   "outputs": [
    {
     "name": "stdout",
     "output_type": "stream",
     "text": [
      " Volume in drive C has no label.\n",
      " Volume Serial Number is 5AED-797E\n",
      "\n",
      " Directory of C:\\Data\\Personal Study\\Programming\\neural-needle-drop\\data\\theneedledrop_scraping\\1duvy3ewoks\n",
      "\n",
      "12/25/2022  05:46 PM    <DIR>          .\n",
      "12/30/2022  02:14 AM    <DIR>          ..\n",
      "12/25/2022  05:46 PM         9,913,083 audio.mp3\n",
      "12/30/2022  10:33 AM                 0 details.json\n",
      "12/25/2022  05:46 PM            84,632 transcription.json\n",
      "               3 File(s)      9,997,715 bytes\n",
      "               2 Dir(s)  147,710,697,472 bytes free\n"
     ]
    }
   ],
   "source": [
    "%ls \"data/theneedledrop_scraping/1duvy3ewoks\""
   ]
  },
  {
   "cell_type": "code",
   "execution_count": 12,
   "id": "582e91ea-9196-449e-b6c6-7ec3fd0704b4",
   "metadata": {},
   "outputs": [
    {
     "data": {
      "text/html": [
       "<div>\n",
       "<style scoped>\n",
       "    .dataframe tbody tr th:only-of-type {\n",
       "        vertical-align: middle;\n",
       "    }\n",
       "\n",
       "    .dataframe tbody tr th {\n",
       "        vertical-align: top;\n",
       "    }\n",
       "\n",
       "    .dataframe thead th {\n",
       "        text-align: right;\n",
       "    }\n",
       "</style>\n",
       "<table border=\"1\" class=\"dataframe\">\n",
       "  <thead>\n",
       "    <tr style=\"text-align: right;\">\n",
       "      <th></th>\n",
       "      <th>url</th>\n",
       "      <th>date</th>\n",
       "      <th>video_id</th>\n",
       "    </tr>\n",
       "  </thead>\n",
       "  <tbody>\n",
       "    <tr>\n",
       "      <th>0</th>\n",
       "      <td>https://www.youtube.com/watch?v=iHrJDmN2oxk</td>\n",
       "      <td>2022-12-23</td>\n",
       "      <td>iHrJDmN2oxk</td>\n",
       "    </tr>\n",
       "    <tr>\n",
       "      <th>1</th>\n",
       "      <td>https://www.youtube.com/watch?v=PK1tkV0ixro</td>\n",
       "      <td>2022-12-23</td>\n",
       "      <td>PK1tkV0ixro</td>\n",
       "    </tr>\n",
       "    <tr>\n",
       "      <th>2</th>\n",
       "      <td>https://www.youtube.com/watch?v=LYg9zYKP85A</td>\n",
       "      <td>2022-12-22</td>\n",
       "      <td>LYg9zYKP85A</td>\n",
       "    </tr>\n",
       "    <tr>\n",
       "      <th>3</th>\n",
       "      <td>https://www.youtube.com/watch?v=6C6NJequlKQ</td>\n",
       "      <td>2022-12-21</td>\n",
       "      <td>6C6NJequlKQ</td>\n",
       "    </tr>\n",
       "    <tr>\n",
       "      <th>4</th>\n",
       "      <td>https://www.youtube.com/watch?v=aP04tybPu5o</td>\n",
       "      <td>2022-12-20</td>\n",
       "      <td>aP04tybPu5o</td>\n",
       "    </tr>\n",
       "    <tr>\n",
       "      <th>...</th>\n",
       "      <td>...</td>\n",
       "      <td>...</td>\n",
       "      <td>...</td>\n",
       "    </tr>\n",
       "    <tr>\n",
       "      <th>3969</th>\n",
       "      <td>https://www.youtube.com/watch?v=SFLvAe2k0Z0</td>\n",
       "      <td>2010-03-09</td>\n",
       "      <td>SFLvAe2k0Z0</td>\n",
       "    </tr>\n",
       "    <tr>\n",
       "      <th>3970</th>\n",
       "      <td>https://www.youtube.com/watch?v=ftt175Djodk</td>\n",
       "      <td>2010-03-08</td>\n",
       "      <td>ftt175Djodk</td>\n",
       "    </tr>\n",
       "    <tr>\n",
       "      <th>3971</th>\n",
       "      <td>https://www.youtube.com/watch?v=A9RLE74OXUY</td>\n",
       "      <td>2010-03-02</td>\n",
       "      <td>A9RLE74OXUY</td>\n",
       "    </tr>\n",
       "    <tr>\n",
       "      <th>3972</th>\n",
       "      <td>https://www.youtube.com/watch?v=wbLFXN1yy5Q</td>\n",
       "      <td>2009-12-16</td>\n",
       "      <td>wbLFXN1yy5Q</td>\n",
       "    </tr>\n",
       "    <tr>\n",
       "      <th>3973</th>\n",
       "      <td>https://www.youtube.com/watch?v=1duvy3ewoks</td>\n",
       "      <td>2009-09-24</td>\n",
       "      <td>1duvy3ewoks</td>\n",
       "    </tr>\n",
       "  </tbody>\n",
       "</table>\n",
       "<p>3974 rows × 3 columns</p>\n",
       "</div>"
      ],
      "text/plain": [
       "                                              url       date     video_id\n",
       "0     https://www.youtube.com/watch?v=iHrJDmN2oxk 2022-12-23  iHrJDmN2oxk\n",
       "1     https://www.youtube.com/watch?v=PK1tkV0ixro 2022-12-23  PK1tkV0ixro\n",
       "2     https://www.youtube.com/watch?v=LYg9zYKP85A 2022-12-22  LYg9zYKP85A\n",
       "3     https://www.youtube.com/watch?v=6C6NJequlKQ 2022-12-21  6C6NJequlKQ\n",
       "4     https://www.youtube.com/watch?v=aP04tybPu5o 2022-12-20  aP04tybPu5o\n",
       "...                                           ...        ...          ...\n",
       "3969  https://www.youtube.com/watch?v=SFLvAe2k0Z0 2010-03-09  SFLvAe2k0Z0\n",
       "3970  https://www.youtube.com/watch?v=ftt175Djodk 2010-03-08  ftt175Djodk\n",
       "3971  https://www.youtube.com/watch?v=A9RLE74OXUY 2010-03-02  A9RLE74OXUY\n",
       "3972  https://www.youtube.com/watch?v=wbLFXN1yy5Q 2009-12-16  wbLFXN1yy5Q\n",
       "3973  https://www.youtube.com/watch?v=1duvy3ewoks 2009-09-24  1duvy3ewoks\n",
       "\n",
       "[3974 rows x 3 columns]"
      ]
     },
     "execution_count": 12,
     "metadata": {},
     "output_type": "execute_result"
    }
   ],
   "source": [
    "video_publish_date_df.query(\"video_id\")"
   ]
  },
  {
   "cell_type": "code",
   "execution_count": null,
   "id": "17226de5-9842-4b02-9e0f-aef876b3c2c7",
   "metadata": {},
   "outputs": [],
   "source": []
  }
 ],
 "metadata": {
  "kernelspec": {
   "display_name": "Python 3 (ipykernel)",
   "language": "python",
   "name": "python3"
  },
  "language_info": {
   "codemirror_mode": {
    "name": "ipython",
    "version": 3
   },
   "file_extension": ".py",
   "mimetype": "text/x-python",
   "name": "python",
   "nbconvert_exporter": "python",
   "pygments_lexer": "ipython3",
   "version": "3.10.6"
  }
 },
 "nbformat": 4,
 "nbformat_minor": 5
}
