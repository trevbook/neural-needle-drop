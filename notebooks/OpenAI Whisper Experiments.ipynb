{
 "cells": [
  {
   "cell_type": "markdown",
   "id": "e09979fb-a35d-4503-8e47-55a34cd1f747",
   "metadata": {},
   "source": [
    "# Motivation\n",
    "I wanted to play around with [OpenAI's Whisper](https://github.com/openai/whisper), so I've created this notebook. "
   ]
  },
  {
   "cell_type": "markdown",
   "id": "7666fac1-9152-43b8-9327-0f98eca128ea",
   "metadata": {},
   "source": [
    "# Setup\n",
    "The cells below will help to set up the rest of the notebook.\n",
    "\n",
    "I'll start by changing directories to the root of the repo. "
   ]
  },
  {
   "cell_type": "code",
   "execution_count": 1,
   "id": "b2f7051b-9b2b-4d09-9230-688aff2894a1",
   "metadata": {},
   "outputs": [
    {
     "name": "stdout",
     "output_type": "stream",
     "text": [
      "C:\\Data\\Personal Study\\Programming\\neural-needle-drop\n"
     ]
    }
   ],
   "source": [
    "# Change the directory to the root of the repo\n",
    "%cd .."
   ]
  },
  {
   "cell_type": "markdown",
   "id": "5340028f-948f-4e44-96da-c2dd59bac1a8",
   "metadata": {},
   "source": [
    "Next, I'll import a couple of different libraries."
   ]
  },
  {
   "cell_type": "code",
   "execution_count": 2,
   "id": "99f15d61-912e-4bc5-8a4a-0dbfe612471e",
   "metadata": {},
   "outputs": [],
   "source": [
    "# Import statements\n",
    "import subprocess\n",
    "import whisper\n",
    "from pathlib import Path\n",
    "from time import time\n",
    "import torch"
   ]
  },
  {
   "cell_type": "markdown",
   "id": "98115eb3-8cdf-43b7-ad87-0fa29f9bd8a8",
   "metadata": {},
   "source": [
    "Finally, I'll set up Whisper by loading the model. Since I have an 8GB GPU, I should be able to load in [their medium.en model](https://github.com/openai/whisper#available-models-and-languages). I'm using the English only model, since TheNeedleDrop reviews are in English. Apparently this model performs a little better for English only applications. "
   ]
  },
  {
   "cell_type": "code",
   "execution_count": 3,
   "id": "231df06f-44bf-466c-8938-4f3296c37bf1",
   "metadata": {},
   "outputs": [
    {
     "name": "stdout",
     "output_type": "stream",
     "text": [
      "Loaded the 'medium.en' model into cuda in 7.60 seconds\n"
     ]
    }
   ],
   "source": [
    "# Determining whether we'll use GPU or CPU\n",
    "DEVICE = \"cuda\" if torch.cuda.is_available() else \"cpu\"\n",
    "\n",
    "# Load in the model\n",
    "model_type = \"medium.en\"\n",
    "start_time=time()\n",
    "model = whisper.load_model(model_type, device=DEVICE)\n",
    "print(f\"Loaded the '{model_type}' model into {DEVICE} in {time()-start_time:.2f} seconds\")"
   ]
  },
  {
   "cell_type": "code",
   "execution_count": 7,
   "id": "053efc73-7052-4450-9e04-b1ab8f454042",
   "metadata": {},
   "outputs": [],
   "source": [
    "# I also want to load in the base_model - this way, I can compare their transcriptions\n",
    "base_model = whisper.load_model(\"base.en\", device=DEVICE)"
   ]
  },
  {
   "cell_type": "markdown",
   "id": "854def84-87cb-4401-9958-56aff7f33410",
   "metadata": {},
   "source": [
    "# Experimentation\n",
    "Now that I've got the model loaded in, I want to test things out. I'm going to follow their [Python usage](https://github.com/openai/whisper#python-usage) quickstart within the repo's README. \n",
    "\n",
    "First question: how long does it take me to transcribe a single Anthony Fantano review? (The next couple of cells assume that you've run the **Experiments** Section of the **`Pytubes Experiments`** notebook.)"
   ]
  },
  {
   "cell_type": "code",
   "execution_count": 4,
   "id": "3d5c09d1-bbef-4a97-bfca-95181ef77fe3",
   "metadata": {},
   "outputs": [
    {
     "name": "stdout",
     "output_type": "stream",
     "text": [
      "Transcription took 9.3e+01 seconds.\n"
     ]
    }
   ],
   "source": [
    "# Declare the path to the test file\n",
    "test_file_path = Path(\"data/test_audio_download.mp3\")\n",
    "\n",
    "# Time how long the transcription takes\n",
    "start_time = time()\n",
    "transcription = model.transcribe(str(test_file_path))\n",
    "print(f\"Transcription took {time()-start_time:.2f} seconds.\")"
   ]
  },
  {
   "cell_type": "markdown",
   "id": "51ce9b88-2ca9-46d8-933d-ae75d9ffb6f9",
   "metadata": {},
   "source": [
    "Next: how *good* is the transcription? I'm going to paste the first couple hundred characters of it to understand what's going on. "
   ]
  },
  {
   "cell_type": "code",
   "execution_count": 11,
   "id": "e011d45a-71f1-43c7-9b06-d4c32fcb535d",
   "metadata": {},
   "outputs": [
    {
     "data": {
      "text/plain": [
       "\" Yeah, yeah, hi everyone orange man almost gone here the Internet's busiest music nerd And it's time for a review of the new one Oh tricks point never album Magic one Oh tricks point never this is the latest LP from prolific composer producer sonic alchemist Daniel Lopatin aka one Oh tricks point never This I believe is his fourth full-length LP with the legendary Warp records and the project seems like a pretty huge concept for him an artistic self-portrait of sorts Maybe the records title flow and various interludes are all deeply inspired by the world of radio pretty interesting We're finally getting a deep dive on something like this especially considering the one Oh tricks point never name is a play on a radio station's frequency numbers anyway now when I understood this was the conceptual direction of this new album that excited me because personally I do have a lot of Passion for the world of radio ever since really I had a little boom box that I could tape my favorite songs off\""
      ]
     },
     "execution_count": 11,
     "metadata": {},
     "output_type": "execute_result"
    }
   ],
   "source": [
    "transcription[\"text\"][:1000]"
   ]
  },
  {
   "cell_type": "markdown",
   "id": "1cea1be5-ab4e-44ce-b742-a104c953da18",
   "metadata": {},
   "source": [
    "Wow. It's practically perfect. This is about the first minute of the review. \n",
    "\n",
    "Let's transcribe it again, but this time using the base model. I want to compare the accuracy"
   ]
  },
  {
   "cell_type": "code",
   "execution_count": null,
   "id": "7c0d611f-824f-45a7-8ca5-846716f9b63c",
   "metadata": {},
   "outputs": [],
   "source": []
  }
 ],
 "metadata": {
  "kernelspec": {
   "display_name": "Python 3 (ipykernel)",
   "language": "python",
   "name": "python3"
  },
  "language_info": {
   "codemirror_mode": {
    "name": "ipython",
    "version": 3
   },
   "file_extension": ".py",
   "mimetype": "text/x-python",
   "name": "python",
   "nbconvert_exporter": "python",
   "pygments_lexer": "ipython3",
   "version": "3.10.6"
  }
 },
 "nbformat": 4,
 "nbformat_minor": 5
}
