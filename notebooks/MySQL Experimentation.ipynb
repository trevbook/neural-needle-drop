{
 "cells": [
  {
   "attachments": {},
   "cell_type": "markdown",
   "metadata": {},
   "source": [
    "# Motivation\n",
    "I want to get a little familiar with MySQL, and a part of that is going to be using Python to interface with the server that I've set up. This notebook will contain some of my initial experimentation. "
   ]
  },
  {
   "attachments": {},
   "cell_type": "markdown",
   "metadata": {},
   "source": [
    "# Setup\n",
    "The cells below will help to set up the rest of the notebook. \n",
    "\n",
    "I'll start by changing my working directory to the root of the repo. "
   ]
  },
  {
   "cell_type": "code",
   "execution_count": 1,
   "metadata": {},
   "outputs": [
    {
     "name": "stdout",
     "output_type": "stream",
     "text": [
      "d:\\data\\programming\\neural-needle-drop\n"
     ]
    }
   ],
   "source": [
    "%cd .."
   ]
  },
  {
   "attachments": {},
   "cell_type": "markdown",
   "metadata": {},
   "source": [
    "Next, I'll import a couple of important Python modules."
   ]
  },
  {
   "cell_type": "code",
   "execution_count": 2,
   "metadata": {},
   "outputs": [],
   "source": [
    "# Import statements\n",
    "import json\n",
    "import os\n",
    "import traceback\n",
    "from tqdm import tqdm\n",
    "import pandas as pd\n",
    "import mysql.connector\n",
    "from pathlib import Path"
   ]
  },
  {
   "attachments": {},
   "cell_type": "markdown",
   "metadata": {},
   "source": [
    "### Setting Up MySQL Connector\n",
    "I also want to set up the MySQL Connector. "
   ]
  },
  {
   "cell_type": "code",
   "execution_count": 3,
   "metadata": {},
   "outputs": [],
   "source": [
    "# Set up the connection to the MySQL server\n",
    "cnx = mysql.connector.connect(\n",
    "    user='root', password=os.getenv(\"MYSQL_PASSWORD\"), \n",
    "    host='localhost', database='neural-needle-drop')\n",
    "\n",
    "# Create a cursor \n",
    "cursor = cnx.cursor()"
   ]
  },
  {
   "attachments": {},
   "cell_type": "markdown",
   "metadata": {},
   "source": [
    "# Populating Table\n",
    "One of the first things I want to do: try and populate a table within the MySQL database. I'm going to follow [this tutorial](https://dev.mysql.com/doc/connector-python/en/connector-python-example-cursor-transaction.html) on populating a table with some data. \n",
    "\n",
    "First thing's first: I need to load in some of the data. I'll load everything into a DataFrame. "
   ]
  },
  {
   "cell_type": "code",
   "execution_count": 4,
   "metadata": {},
   "outputs": [
    {
     "name": "stderr",
     "output_type": "stream",
     "text": [
      "100%|██████████| 3974/3974 [00:00<00:00, 4966.58it/s]\n"
     ]
    },
    {
     "data": {
      "text/html": [
       "<div>\n",
       "<style scoped>\n",
       "    .dataframe tbody tr th:only-of-type {\n",
       "        vertical-align: middle;\n",
       "    }\n",
       "\n",
       "    .dataframe tbody tr th {\n",
       "        vertical-align: top;\n",
       "    }\n",
       "\n",
       "    .dataframe thead th {\n",
       "        text-align: right;\n",
       "    }\n",
       "</style>\n",
       "<table border=\"1\" class=\"dataframe\">\n",
       "  <thead>\n",
       "    <tr style=\"text-align: right;\">\n",
       "      <th></th>\n",
       "      <th>videoId</th>\n",
       "      <th>title</th>\n",
       "      <th>lengthSeconds</th>\n",
       "      <th>keywords</th>\n",
       "      <th>channelId</th>\n",
       "      <th>isOwnerViewing</th>\n",
       "      <th>shortDescription</th>\n",
       "      <th>isCrawlable</th>\n",
       "      <th>thumbnail</th>\n",
       "      <th>allowRatings</th>\n",
       "      <th>viewCount</th>\n",
       "      <th>author</th>\n",
       "      <th>isPrivate</th>\n",
       "      <th>isUnpluggedCorpus</th>\n",
       "      <th>isLiveContent</th>\n",
       "      <th>publish_date</th>\n",
       "      <th>inferred_video_type</th>\n",
       "      <th>inferred_review_score</th>\n",
       "      <th>spotify_linkages</th>\n",
       "    </tr>\n",
       "  </thead>\n",
       "  <tbody>\n",
       "    <tr>\n",
       "      <th>0</th>\n",
       "      <td>--YnsRamkzc</td>\n",
       "      <td>Joey Bada$$- 1999 ALBUM REVIEW</td>\n",
       "      <td>418</td>\n",
       "      <td>[joey badass, joey bada$$, new york, album, 19...</td>\n",
       "      <td>UCt7fwAhXDy3oNFTAzF2o8Pw</td>\n",
       "      <td>False</td>\n",
       "      <td>Listen: http://theneedledrop.com/2012/06/joey-...</td>\n",
       "      <td>True</td>\n",
       "      <td>{'thumbnails': [{'url': 'https://i.ytimg.com/v...</td>\n",
       "      <td>True</td>\n",
       "      <td>365830</td>\n",
       "      <td>theneedledrop</td>\n",
       "      <td>False</td>\n",
       "      <td>False</td>\n",
       "      <td>False</td>\n",
       "      <td>2012-06-18 00:00:00</td>\n",
       "      <td>album_review</td>\n",
       "      <td>7.0</td>\n",
       "      <td>{'album': [{'review_album': '5ra51AaWF3iVebyhl...</td>\n",
       "    </tr>\n",
       "  </tbody>\n",
       "</table>\n",
       "</div>"
      ],
      "text/plain": [
       "       videoId                           title lengthSeconds  \\\n",
       "0  --YnsRamkzc  Joey Bada$$- 1999 ALBUM REVIEW           418   \n",
       "\n",
       "                                            keywords  \\\n",
       "0  [joey badass, joey bada$$, new york, album, 19...   \n",
       "\n",
       "                  channelId  isOwnerViewing  \\\n",
       "0  UCt7fwAhXDy3oNFTAzF2o8Pw           False   \n",
       "\n",
       "                                    shortDescription  isCrawlable  \\\n",
       "0  Listen: http://theneedledrop.com/2012/06/joey-...         True   \n",
       "\n",
       "                                           thumbnail  allowRatings viewCount  \\\n",
       "0  {'thumbnails': [{'url': 'https://i.ytimg.com/v...          True    365830   \n",
       "\n",
       "          author  isPrivate  isUnpluggedCorpus  isLiveContent  \\\n",
       "0  theneedledrop      False              False          False   \n",
       "\n",
       "          publish_date inferred_video_type  inferred_review_score  \\\n",
       "0  2012-06-18 00:00:00        album_review                    7.0   \n",
       "\n",
       "                                    spotify_linkages  \n",
       "0  {'album': [{'review_album': '5ra51AaWF3iVebyhl...  "
      ]
     },
     "execution_count": 4,
     "metadata": {},
     "output_type": "execute_result"
    }
   ],
   "source": [
    "# Load in all of the data from theneedledrop_scraping folder\n",
    "tnd_data_df_records = []\n",
    "for child_dir in tqdm(list(Path(\"data/theneedledrop_scraping/\").iterdir())):\n",
    "    if (child_dir.is_dir()):\n",
    "        enriched_details_path = Path(f\"{child_dir}/enriched_details.json\")\n",
    "        if (enriched_details_path.exists()):\n",
    "            with open(enriched_details_path, \"r\") as json_file:\n",
    "                tnd_data_df_records.append(json.load(json_file))\n",
    "tnd_data_df = pd.DataFrame.from_records(tnd_data_df_records)\n",
    "tnd_data_df.head(1)"
   ]
  },
  {
   "attachments": {},
   "cell_type": "markdown",
   "metadata": {},
   "source": [
    "Nice - with this data in hand, I should be able to load some of it into the SQL server."
   ]
  },
  {
   "cell_type": "code",
   "execution_count": 5,
   "metadata": {},
   "outputs": [
    {
     "name": "stderr",
     "output_type": "stream",
     "text": [
      "100%|██████████| 3974/3974 [00:00<00:00, 5150.05it/s]\n"
     ]
    }
   ],
   "source": [
    "# Iterate through each of the rows in the tnd_data_df\n",
    "for row in tqdm(list(tnd_data_df.itertuples())):\n",
    "\n",
    "    # Create the query from some of the information in this row \n",
    "    insert_query = \"\"\"\n",
    "    REPLACE INTO video_details\n",
    "        (id, title, length, channel_id, description, \n",
    "        view_ct, channel_name, publish_date, url)\n",
    "        VALUES (%(id)s, %(title)s, %(length)s, %(channel_id)s, \n",
    "        %(description)s, %(view_ct)s, %(channel_name)s, %(publish_date)s,\n",
    "        %(url)s)\n",
    "    \"\"\"\n",
    "\n",
    "    # We'll specify the data that we'll be injecting into the table\n",
    "    insert_data = {\n",
    "        \"id\": row.videoId,\n",
    "        \"title\": row.title,\n",
    "        \"length\": row.lengthSeconds,\n",
    "        \"channel_id\": row.channelId,\n",
    "        \"description\": row.shortDescription,\n",
    "        \"view_ct\": row.viewCount,\n",
    "        \"channel_name\": row.author,\n",
    "        \"publish_date\": row.publish_date,\n",
    "        \"url\": f\"https://www.youtube.com/watch?v={row.videoId}\"\n",
    "    }\n",
    "\n",
    "    # Execute this query \n",
    "    cursor.execute(insert_query, insert_data)\n",
    "\n",
    "# Now that we're done with adding all of the data, we'll commit it \n",
    "cnx.commit()"
   ]
  },
  {
   "attachments": {},
   "cell_type": "markdown",
   "metadata": {},
   "source": [
    "# Querying the Server\n",
    "Now that I've got some data in the table, I want to try and test querying it. With the help of ChatGPT, I've written the method below. "
   ]
  },
  {
   "cell_type": "code",
   "execution_count": 6,
   "metadata": {},
   "outputs": [],
   "source": [
    "def query_to_df(query, print_error=False):\n",
    "    '''Query the active MySQL database and return results in a DataFrame'''\n",
    "\n",
    "    # Try to return the results as a DataFrame\n",
    "    try:\n",
    "        # Execute the query\n",
    "        cursor.execute(query)\n",
    "\n",
    "        # Fetch the results \n",
    "        res = cursor.fetchall()\n",
    "\n",
    "        # Return a DataFrame\n",
    "        return pd.DataFrame(res, columns=[i[0] for i in cursor.description])\n",
    "\n",
    "    # If we run into an Exception, return None\n",
    "    except Exception as e:\n",
    "        if (print_error):\n",
    "            print(f\"Ran into the following error:\\n{e}\\nStack trace:\")\n",
    "            print(traceback.format_exc())\n",
    "        return None"
   ]
  },
  {
   "attachments": {},
   "cell_type": "markdown",
   "metadata": {},
   "source": [
    "Now - we can test this method out! The code below will grab *all* of the video details:"
   ]
  },
  {
   "cell_type": "code",
   "execution_count": 7,
   "metadata": {},
   "outputs": [
    {
     "data": {
      "text/html": [
       "<div>\n",
       "<style scoped>\n",
       "    .dataframe tbody tr th:only-of-type {\n",
       "        vertical-align: middle;\n",
       "    }\n",
       "\n",
       "    .dataframe tbody tr th {\n",
       "        vertical-align: top;\n",
       "    }\n",
       "\n",
       "    .dataframe thead th {\n",
       "        text-align: right;\n",
       "    }\n",
       "</style>\n",
       "<table border=\"1\" class=\"dataframe\">\n",
       "  <thead>\n",
       "    <tr style=\"text-align: right;\">\n",
       "      <th></th>\n",
       "      <th>id</th>\n",
       "      <th>title</th>\n",
       "      <th>length</th>\n",
       "      <th>channel_id</th>\n",
       "      <th>description</th>\n",
       "      <th>view_ct</th>\n",
       "      <th>channel_name</th>\n",
       "      <th>publish_date</th>\n",
       "      <th>url</th>\n",
       "    </tr>\n",
       "  </thead>\n",
       "  <tbody>\n",
       "    <tr>\n",
       "      <th>0</th>\n",
       "      <td>__MzJoGgYLk</td>\n",
       "      <td>Jack White - Lazaretto ALBUM REVIEW</td>\n",
       "      <td>391</td>\n",
       "      <td>UCt7fwAhXDy3oNFTAzF2o8Pw</td>\n",
       "      <td>Listen: http://youtu.be/sRbnAxrS3EM\\n\\nJack Wh...</td>\n",
       "      <td>219457</td>\n",
       "      <td>theneedledrop</td>\n",
       "      <td>2014-06-11</td>\n",
       "      <td>https://www.youtube.com/watch?v=__MzJoGgYLk</td>\n",
       "    </tr>\n",
       "    <tr>\n",
       "      <th>1</th>\n",
       "      <td>__PxaWntvhg</td>\n",
       "      <td>Metá Metá - MM3 ALBUM REVIEW</td>\n",
       "      <td>245</td>\n",
       "      <td>UCt7fwAhXDy3oNFTAzF2o8Pw</td>\n",
       "      <td>Listen: https://www.youtube.com/watch?v=FNXUOG...</td>\n",
       "      <td>36095</td>\n",
       "      <td>theneedledrop</td>\n",
       "      <td>2016-12-10</td>\n",
       "      <td>https://www.youtube.com/watch?v=__PxaWntvhg</td>\n",
       "    </tr>\n",
       "    <tr>\n",
       "      <th>2</th>\n",
       "      <td>_-DrFVGXHyA</td>\n",
       "      <td>Dave - We're All Alone in This Together ALBUM ...</td>\n",
       "      <td>558</td>\n",
       "      <td>UCt7fwAhXDy3oNFTAzF2o8Pw</td>\n",
       "      <td>Listen: https://www.youtube.com/watch?v=oFqVvj...</td>\n",
       "      <td>298074</td>\n",
       "      <td>theneedledrop</td>\n",
       "      <td>2021-07-26</td>\n",
       "      <td>https://www.youtube.com/watch?v=_-DrFVGXHyA</td>\n",
       "    </tr>\n",
       "  </tbody>\n",
       "</table>\n",
       "</div>"
      ],
      "text/plain": [
       "            id                                              title  length  \\\n",
       "0  __MzJoGgYLk                Jack White - Lazaretto ALBUM REVIEW     391   \n",
       "1  __PxaWntvhg                       Metá Metá - MM3 ALBUM REVIEW     245   \n",
       "2  _-DrFVGXHyA  Dave - We're All Alone in This Together ALBUM ...     558   \n",
       "\n",
       "                 channel_id  \\\n",
       "0  UCt7fwAhXDy3oNFTAzF2o8Pw   \n",
       "1  UCt7fwAhXDy3oNFTAzF2o8Pw   \n",
       "2  UCt7fwAhXDy3oNFTAzF2o8Pw   \n",
       "\n",
       "                                         description  view_ct   channel_name  \\\n",
       "0  Listen: http://youtu.be/sRbnAxrS3EM\\n\\nJack Wh...   219457  theneedledrop   \n",
       "1  Listen: https://www.youtube.com/watch?v=FNXUOG...    36095  theneedledrop   \n",
       "2  Listen: https://www.youtube.com/watch?v=oFqVvj...   298074  theneedledrop   \n",
       "\n",
       "  publish_date                                          url  \n",
       "0   2014-06-11  https://www.youtube.com/watch?v=__MzJoGgYLk  \n",
       "1   2016-12-10  https://www.youtube.com/watch?v=__PxaWntvhg  \n",
       "2   2021-07-26  https://www.youtube.com/watch?v=_-DrFVGXHyA  "
      ]
     },
     "execution_count": 7,
     "metadata": {},
     "output_type": "execute_result"
    }
   ],
   "source": [
    "# This query will grab all of the data from the table \n",
    "all_video_details_query = \"\"\"SELECT * FROM video_details\"\"\"\n",
    "\n",
    "# Execute the above query \n",
    "all_video_details_df = query_to_df(all_video_details_query)\n",
    "\n",
    "# Show the first 3 rows\n",
    "all_video_details_df.head(3)"
   ]
  },
  {
   "attachments": {},
   "cell_type": "markdown",
   "metadata": {},
   "source": [
    "What about a query that'll do a little analysis? What's the longest video I have? "
   ]
  },
  {
   "cell_type": "code",
   "execution_count": 8,
   "metadata": {},
   "outputs": [
    {
     "data": {
      "text/html": [
       "<div>\n",
       "<style scoped>\n",
       "    .dataframe tbody tr th:only-of-type {\n",
       "        vertical-align: middle;\n",
       "    }\n",
       "\n",
       "    .dataframe tbody tr th {\n",
       "        vertical-align: top;\n",
       "    }\n",
       "\n",
       "    .dataframe thead th {\n",
       "        text-align: right;\n",
       "    }\n",
       "</style>\n",
       "<table border=\"1\" class=\"dataframe\">\n",
       "  <thead>\n",
       "    <tr style=\"text-align: right;\">\n",
       "      <th></th>\n",
       "      <th>title</th>\n",
       "      <th>length</th>\n",
       "    </tr>\n",
       "  </thead>\n",
       "  <tbody>\n",
       "    <tr>\n",
       "      <th>0</th>\n",
       "      <td>TND Podcast #42 ft. Digibro</td>\n",
       "      <td>6808</td>\n",
       "    </tr>\n",
       "  </tbody>\n",
       "</table>\n",
       "</div>"
      ],
      "text/plain": [
       "                         title  length\n",
       "0  TND Podcast #42 ft. Digibro    6808"
      ]
     },
     "execution_count": 8,
     "metadata": {},
     "output_type": "execute_result"
    }
   ],
   "source": [
    "# This query will determine the title of the longest video\n",
    "longest_video_query = \"\"\"\n",
    "SELECT\n",
    "    title,\n",
    "    length\n",
    "FROM\n",
    "    video_details\n",
    "WHERE length = (SELECT MAX(length) FROM video_details)\n",
    "\"\"\"\n",
    "\n",
    "# Execute the above query\n",
    "query_to_df(longest_video_query, print_error=True)"
   ]
  },
  {
   "attachments": {},
   "cell_type": "markdown",
   "metadata": {},
   "source": [
    "How about the shortest video? "
   ]
  },
  {
   "cell_type": "code",
   "execution_count": 9,
   "metadata": {},
   "outputs": [
    {
     "data": {
      "text/html": [
       "<div>\n",
       "<style scoped>\n",
       "    .dataframe tbody tr th:only-of-type {\n",
       "        vertical-align: middle;\n",
       "    }\n",
       "\n",
       "    .dataframe tbody tr th {\n",
       "        vertical-align: top;\n",
       "    }\n",
       "\n",
       "    .dataframe thead th {\n",
       "        text-align: right;\n",
       "    }\n",
       "</style>\n",
       "<table border=\"1\" class=\"dataframe\">\n",
       "  <thead>\n",
       "    <tr style=\"text-align: right;\">\n",
       "      <th></th>\n",
       "      <th>title</th>\n",
       "      <th>length</th>\n",
       "    </tr>\n",
       "  </thead>\n",
       "  <tbody>\n",
       "    <tr>\n",
       "      <th>0</th>\n",
       "      <td>???</td>\n",
       "      <td>23</td>\n",
       "    </tr>\n",
       "  </tbody>\n",
       "</table>\n",
       "</div>"
      ],
      "text/plain": [
       "  title  length\n",
       "0   ???      23"
      ]
     },
     "execution_count": 9,
     "metadata": {},
     "output_type": "execute_result"
    }
   ],
   "source": [
    "# This query will determine the title of the shortest video\n",
    "shortest_video_query = \"\"\"\n",
    "SELECT \n",
    "    title,\n",
    "    length\n",
    "FROM\n",
    "    video_details\n",
    "WHERE length = (SELECT MIN(length) FROM video_details)\n",
    "\"\"\"\n",
    "\n",
    "# Execute the above query\n",
    "query_to_df(shortest_video_query, print_error=True)"
   ]
  },
  {
   "attachments": {},
   "cell_type": "markdown",
   "metadata": {},
   "source": [
    "What about something a little more complicated: \"what's the longest video released in 2018 that had a maximum length of 3 minutes?\""
   ]
  },
  {
   "cell_type": "code",
   "execution_count": 10,
   "metadata": {},
   "outputs": [
    {
     "data": {
      "text/html": [
       "<div>\n",
       "<style scoped>\n",
       "    .dataframe tbody tr th:only-of-type {\n",
       "        vertical-align: middle;\n",
       "    }\n",
       "\n",
       "    .dataframe tbody tr th {\n",
       "        vertical-align: top;\n",
       "    }\n",
       "\n",
       "    .dataframe thead th {\n",
       "        text-align: right;\n",
       "    }\n",
       "</style>\n",
       "<table border=\"1\" class=\"dataframe\">\n",
       "  <thead>\n",
       "    <tr style=\"text-align: right;\">\n",
       "      <th></th>\n",
       "      <th>id</th>\n",
       "      <th>title</th>\n",
       "      <th>length</th>\n",
       "      <th>url</th>\n",
       "    </tr>\n",
       "  </thead>\n",
       "  <tbody>\n",
       "    <tr>\n",
       "      <th>0</th>\n",
       "      <td>7v0mYN2k16g</td>\n",
       "      <td>Valee - GOOD Job, You Found Me EP REVIEW</td>\n",
       "      <td>299</td>\n",
       "      <td>https://www.youtube.com/watch?v=7v0mYN2k16g</td>\n",
       "    </tr>\n",
       "  </tbody>\n",
       "</table>\n",
       "</div>"
      ],
      "text/plain": [
       "            id                                     title  length  \\\n",
       "0  7v0mYN2k16g  Valee - GOOD Job, You Found Me EP REVIEW     299   \n",
       "\n",
       "                                           url  \n",
       "0  https://www.youtube.com/watch?v=7v0mYN2k16g  "
      ]
     },
     "execution_count": 10,
     "metadata": {},
     "output_type": "execute_result"
    }
   ],
   "source": [
    "# This query will determine the video described above\n",
    "complicated_query = \"\"\"\n",
    "WITH only_2018 AS (\n",
    "    SELECT id, length\n",
    "    FROM video_details\n",
    "    WHERE YEAR(publish_date) = 2018\n",
    ")\n",
    "SELECT \n",
    "    video_details.id,\n",
    "    video_details.title, \n",
    "    video_details.length,\n",
    "    video_details.url\n",
    "FROM only_2018\n",
    "JOIN video_details ON video_details.id=only_2018.id\n",
    "WHERE video_details.length = (SELECT MAX(length) from only_2018 WHERE length <=300) \n",
    "\"\"\"\n",
    "\n",
    "# Execute the above query\n",
    "query_to_df(complicated_query, print_error=True)"
   ]
  },
  {
   "attachments": {},
   "cell_type": "markdown",
   "metadata": {},
   "source": [
    "# Closing the Cursor\n",
    "Once we're finished with things, we ought to close out the cursor. "
   ]
  },
  {
   "cell_type": "code",
   "execution_count": 11,
   "metadata": {},
   "outputs": [],
   "source": [
    "cursor.close()\n",
    "cnx.close()"
   ]
  }
 ],
 "metadata": {
  "kernelspec": {
   "display_name": ".venv",
   "language": "python",
   "name": "python3"
  },
  "language_info": {
   "codemirror_mode": {
    "name": "ipython",
    "version": 3
   },
   "file_extension": ".py",
   "mimetype": "text/x-python",
   "name": "python",
   "nbconvert_exporter": "python",
   "pygments_lexer": "ipython3",
   "version": "3.10.9"
  },
  "orig_nbformat": 4,
  "vscode": {
   "interpreter": {
    "hash": "70b6d7546de29863a58b9c57a86bc7d85299cc84f1fdf81f78934173ede7c021"
   }
  }
 },
 "nbformat": 4,
 "nbformat_minor": 2
}
